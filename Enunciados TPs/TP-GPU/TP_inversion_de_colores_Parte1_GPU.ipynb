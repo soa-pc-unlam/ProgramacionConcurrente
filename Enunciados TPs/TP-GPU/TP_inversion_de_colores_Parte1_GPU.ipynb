{
  "nbformat": 4,
  "nbformat_minor": 0,
  "metadata": {
    "colab": {
      "provenance": []
    },
    "kernelspec": {
      "name": "python3",
      "display_name": "Python 3"
    },
    "accelerator": "GPU"
  },
  "cells": [
    {
      "cell_type": "markdown",
      "metadata": {
        "id": "qoYPFWcielY3"
      },
      "source": [
        "# 1 Introducción\n",
        "\n",
        "El siguiente ejemplo modifica el color de una imágen parametrizada, invertiendole el mismo. El cálculo de la se realiza aplicando la siguiente formula a cada color RGB del pixel:\n",
        "\n",
        "<center>$ pixelinvertido = 255 - pixeloriginal$</center>\n",
        "\n",
        "EL objetivo es enseñar el funcionamiento del Lenguaje Python, CUDA y el manejo de imagenes a bajo nivel. El ejemplo es ilustrativo, ya que internamente el módulo Pillow posee varios filtros integrados."
      ]
    },
    {
      "cell_type": "markdown",
      "source": [
        "-----\n",
        "#Enunciado del Ejercicio\n",
        "\n",
        "a)  Teniendo en cuenta el código secuencial del Filtro de inversion de colores de una imagen, que se ejecuta en la CPU, genere el kernel para ejecutar el mismo algoritmo en forma paralela en la gpu"
      ],
      "metadata": {
        "id": "5jigO7qYEefA"
      }
    },
    {
      "cell_type": "markdown",
      "metadata": {
        "id": "32YB71STfPcy"
      },
      "source": [
        "---\n",
        "## 2 Armado del ambiente\n",
        "Toma la direcciòn web de una imagen con  acceso público en internet, la deja disponible al contexto de ejecuciòn del cuaderno colab."
      ]
    },
    {
      "cell_type": "code",
      "metadata": {
        "id": "QcnL4UkAN7ub"
      },
      "source": [
        "#@title # 2.1 Parámetros de ejecución\n",
        "#@markdown ---\n",
        "#@markdown ### Especifique la URL de la imagen:\n",
        "url_imagen = \"https://raw.githubusercontent.com/soa-pc-unlam/ProgramacionConcurrente/main/Enunciados%20TPs/TP-GPU/Imagenes/MK-Maxi-Esteban.jpeg\" #@param {type:\"string\"}\n",
        "\n",
        "#@markdown ---\n",
        "# Leo la imagen desde internet.\n",
        "#!wget https://github.com/wvaliente/SOA_HPC/blob/main/unlam.jpg?raw=true -O imagen.jpg\n",
        "\n",
        "# TODO: Mejorar informaciòn y resutlado de ejecución.\n",
        "!wget {url_imagen} -O imagen.jpg\n",
        "\n"
      ],
      "execution_count": null,
      "outputs": []
    },
    {
      "cell_type": "markdown",
      "metadata": {
        "id": "3GLsQ34ysP4_"
      },
      "source": [
        "---\n",
        "## 2.2 Instala en el cuaderno el módulo CUDA de Python."
      ]
    },
    {
      "cell_type": "code",
      "metadata": {
        "id": "ropgS48tsRTv"
      },
      "source": [
        "!pip install pycuda"
      ],
      "execution_count": null,
      "outputs": []
    },
    {
      "cell_type": "markdown",
      "metadata": {
        "id": "Xt4Pea0Psrx_"
      },
      "source": [
        "---\n",
        "# 3 Desarrollo\n",
        "# Ejecución en CPU\n",
        "Ejecución del algoritmo del filtro de brllo ejecutandose en form secuencial en  la CPU"
      ]
    },
    {
      "cell_type": "code",
      "source": [
        "from pickle import FALSE\n",
        "from PIL import Image\n",
        "import matplotlib.pyplot as plt\n",
        "\n",
        "import cProfile\n",
        "\n",
        "#Poner SHOW_STATS en true para ver el tiempo de ejecucion y false para ocultarlo\n",
        "SHOW_STATS=True\n",
        "\n",
        "CM= 1/2.54\n",
        "SIZE= 12*CM\n",
        "\n",
        "#funcion que aplica el filtro de inversion de colores\n",
        "def invert_color(im,out):\n",
        "  datos = list(im.getdata())\n",
        "\n",
        "  datos_invertidos = []\n",
        "  for x in range(len(datos)):\n",
        "      r = 255 - datos[x][0]\n",
        "      g = 255 - datos[x][1]\n",
        "      b = 255 - datos[x][2]\n",
        "      datos_invertidos.append((r, g, b))\n",
        "\n",
        "  out.putdata(datos_invertidos)\n",
        "\n",
        "  return out\n",
        "\n",
        "def main():\n",
        "  #objeto del Profiler de python\n",
        "  cprofiler = cProfile.Profile()\n",
        "\n",
        "  #se carga la imagen\n",
        "  im = Image.open(\"imagen.jpg\")\n",
        "  out = Image.new('RGB', im.size, 0xffffff)\n",
        "\n",
        "\n",
        "  #se activa el profiler\n",
        "  cprofiler.enable()\n",
        "\n",
        "  out=invert_color(im, out)\n",
        "\n",
        "  #se desactiva el profiler\n",
        "  cprofiler.disable()\n",
        "\n",
        "  out.save('invertcolor.jpg')\n",
        "\n",
        "  #se muestra la imagen original\n",
        "  print(\"imagen original\")\n",
        "  plt.figure(figsize=(SIZE,SIZE))\n",
        "  imgplot=plt.imshow( im)\n",
        "  plt.show()\n",
        "\n",
        "  #se muestra la imagen con filtro\n",
        "  print(\"imagen con filtro\")\n",
        "  plt.figure(figsize=(SIZE,SIZE))\n",
        "  img2plot=plt.imshow( out)\n",
        "  plt.show()\n",
        "\n",
        "\n",
        "  cprofiler.print_stats(sort='cumulative') if SHOW_STATS==True else None\n",
        "main()"
      ],
      "metadata": {
        "id": "xRFHLYGg7_Zx"
      },
      "execution_count": null,
      "outputs": []
    },
    {
      "cell_type": "markdown",
      "source": [
        "# Ejecución en GPU\n",
        "Ejecución del algoritmo del filtro de brllo ejecutandose en forma paralaela en  la GPU"
      ],
      "metadata": {
        "id": "EdZpk5uK2gDS"
      }
    },
    {
      "cell_type": "code",
      "metadata": {
        "id": "8_uVXVJjz_Jr"
      },
      "source": [
        "#%%writefile filter_brightness.py\n",
        "%matplotlib inline\n",
        "from datetime import datetime\n",
        "tiempo_total = datetime.now()\n",
        "\n",
        "import matplotlib.pyplot as plt\n",
        "import numpy\n",
        "from PIL import Image\n",
        "import pycuda.driver as cuda\n",
        "import pycuda.autoinit\n",
        "from pycuda.compiler import SourceModule\n",
        "\n",
        "# --------------------------------------------\n",
        "# Definición de función que transforma el tiempo en  milisegundos\n",
        "tiempo_en_ms = lambda dt:(dt.days * 24 * 60 * 60 + dt.seconds) * 1000 + dt.microseconds / 1000.0\n",
        "# --------------------------------------------\n",
        "\n",
        "CM= 1/2.54\n",
        "SIZE= 12*CM\n",
        "\n",
        "def define_kernel():\n",
        "  module = SourceModule(\"\"\"\n",
        "\n",
        "  __global__ void kernel_img( int ancho, int alto, int *img_O, int *img_R )\n",
        "  {\n",
        "    // Calculo las coordenadas del Thread en dos dimensiones.\n",
        "    int idx = threadIdx.x + blockIdx.x*blockDim.x;\n",
        "    int idy = threadIdx.y + blockIdx.y*blockDim.y;\n",
        "\n",
        "    // Verifico que los Thread, esten dentro de las dimensiones de la imagen.\n",
        "    if( idx < ancho && idy < alto )\n",
        "    {\n",
        "\n",
        "       **************************************************************\n",
        "       ***********COMPLETE AQUI EL CODIGO DEL KERNEL*****************\n",
        "       **************************************************************\n",
        "\n",
        "    }\n",
        "  }\n",
        "  \"\"\")\n",
        "\n",
        "  return module\n",
        "\n",
        "def main():\n",
        "  img_nombre = 'imagen.jpg'\n",
        "  image = Image.open( img_nombre )\n",
        "\n",
        "  # summarize some details about the image\n",
        "  img_ancho, img_alto  = image.size\n",
        "\n",
        "  # Convierto la imagen comprimida en JPEG/PNG a array\n",
        "  img_O_cpu = numpy.asarray(image)\n",
        "  img_O_cpu = img_O_cpu.astype( numpy.int32() )\n",
        "  img_R_cpu = numpy.empty_like( img_O_cpu)\n",
        "\n",
        "  # Reservo los 2 vectores en GPU(3 pixeles usa RGB * (el tamaño del array))\n",
        "  img_O_gpu = cuda.mem_alloc( img_O_cpu.nbytes )\n",
        "  img_R_gpu = cuda.mem_alloc( img_R_cpu.nbytes )\n",
        "\n",
        "  # GPU - Copio la memoria al GPU.\n",
        "  cuda.memcpy_htod( img_O_gpu, img_O_cpu )\n",
        "  cuda.memcpy_htod( img_R_gpu, img_R_cpu )\n",
        "\n",
        "  # CPU - Defino la función kernel que ejecutará en GPU.\n",
        "  module = define_kernel()\n",
        "\n",
        "\n",
        "  # Muestro los atributos de la imagen y como se ve antes del seudo filtro.\n",
        "  print(\"Imagen del filtro: \" + img_nombre + \" -\" + image.mode + \"- [\" + str(img_ancho) + \", \" + str(img_alto ) + \"]\" )\n",
        "\n",
        "  # CPU - Genero la función kernel.\n",
        "  kernel = module.get_function(\"kernel_img\")\n",
        "\n",
        "  dim_hilo_x = 16\n",
        "  dim_bloque_x = int( (img_ancho+dim_hilo_x-1) / dim_hilo_x )\n",
        "\n",
        "  dim_hilo_y = 19\n",
        "  dim_bloque_y = int( (img_alto+dim_hilo_y-1) / dim_hilo_y )\n",
        "\n",
        "  print( \"Thread: [\", dim_hilo_x, \",\", dim_hilo_y, \" ], Bloque : [\", dim_bloque_x, \",\", dim_bloque_y, \"]\" )\n",
        "  print( \"Total de Thread: [\", dim_hilo_x*dim_bloque_x, \",\", dim_hilo_y*dim_bloque_y, \" ]\", \" = \", dim_hilo_x*dim_bloque_x*dim_hilo_y*dim_bloque_y )\n",
        "\n",
        "\n",
        "  kernel( numpy.int32(img_ancho), numpy.int32(img_alto), img_O_gpu, img_R_gpu, block=( dim_hilo_x, dim_hilo_y, 1 ), grid=(dim_bloque_x, dim_bloque_y,1))\n",
        "\n",
        "  # GPU - Copio el resultado desde la memoria GPU.\n",
        "  cuda.memcpy_dtoh( img_R_cpu, img_R_gpu )\n",
        "\n",
        "  # Muestro la imagen Original el filtro.\n",
        "  plt.figure(figsize=(SIZE,SIZE))\n",
        "  imgplot=plt.imshow( img_O_cpu )\n",
        "\n",
        "  # Muestro la imagen luego de aplicarle el filtro.\n",
        "  plt.figure(figsize=(SIZE,SIZE))\n",
        "  imgplot=plt.imshow( img_R_cpu )\n",
        "\n",
        "main()"
      ],
      "execution_count": null,
      "outputs": []
    },
    {
      "cell_type": "code",
      "source": [
        "!nvprof python filter_brightness.py"
      ],
      "metadata": {
        "id": "vAtV-rcah-sz"
      },
      "execution_count": null,
      "outputs": []
    },
    {
      "cell_type": "markdown",
      "metadata": {
        "id": "zqAv4Gt7qRrh"
      },
      "source": [
        "---\n",
        "# 4 Tabla de pasos\n",
        "\n",
        "\n",
        " Procesador | Funciòn | Detalle\n",
        "------------|---------|----------\n",
        "CPU      |  wget url_imagen       | Lectura de la direcciòn URL de la imagen (jpg) a procesar.\n",
        "CPU      | pip install pycuda    | Instala en el cuaderno los driver de CUDA para Python.\n",
        "CPU      |  matplotlib inline    | Macro de Colab para mostrar imagenes.\n",
        "CPU      |  import                | Importa los módulos para funcionar.\n",
        "CPU      |  datetime.now()        | Toma el tiempo actual.\n",
        "CPU      |  Image.open()          | Abre el archivo de la imagen.\n",
        "CPU      |  numpy.asarray(imagen) | Convierte el formato comprimido JPG a RAW.\n",
        "CPU      |  numpy.empty_like(()   | Genera el array destino, que tendrá a la imagen resultado.\n",
        "**GPU**  |  cuda.mem_alloc()      | Reserva la memoria para las imagenes en GPU.\n",
        "**GPU**  |  cuda.memcpy_htod()    | Copio los valores en crudo de las imagenes al GPU.\n",
        "CPU      |  SourceModule()        | Posee el còdigo del kernel.\n",
        "CPU      |  module.get_function() | convierte el texto del kernel en funcion de Python.\n",
        "CPU      |  dim_hilo_x, dim_hilo_y| Calcula las dimensiones para la ejecuciòn de 2D.\n",
        "**GPU**  |  kernel()              | Ejecuta el kernel en GPU, enviando los parametros.\n",
        "CPU      |  print()               | Informa los atributos de la imagen.\n",
        "CPU      | cuda.memcpy_dtoh()     | Copia desde la memoria GPU al CPU.\n",
        "CPU      |  plt.imshow            | Muestra la imagen original.\n",
        "CPU      |  plt.imshow            | Muestra la imagen resultado.\n",
        "\n"
      ]
    },
    {
      "cell_type": "markdown",
      "metadata": {
        "id": "Qtiz4_7bmaDe"
      },
      "source": [
        "---\n",
        "# 5 Conclusiones\n",
        "\n",
        "Las conclusiones son explicadas en clase..."
      ]
    },
    {
      "cell_type": "markdown",
      "metadata": {
        "id": "ufDYy0LPmbYH"
      },
      "source": [
        "---\n",
        "# 6 Bibliografía\n",
        "\n",
        "[1] MARKDOWN SYNTAX Colab: [PDF](https://github.com/wvaliente/SOA_HPC/blob/main/Documentos/markdown-cheatsheet-online.pdf)\n",
        "\n",
        "[2] Introducción a Python: [Página Colab](https://github.com/wvaliente/SOA_HPC/blob/main/Documentos/Python_Basico.ipynb)\n",
        "\n",
        "[3] Tutorial Point Colab: [PDF](https://github.com/wvaliente/SOA_HPC/blob/main/Documentos/markdown-cheatsheet-online.pdf)\n",
        "\n",
        "[4] Algoritmo de filtro inversion de colores en forma secuencial [PDF](https://pythoneyes.wordpress.com/2017/05/25/complemento-inversion-o-negativo-de-una-imagen/)\n"
      ]
    }
  ]
}
